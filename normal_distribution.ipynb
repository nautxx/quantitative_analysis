{
 "cells": [
  {
   "cell_type": "markdown",
   "metadata": {},
   "source": [
    "THE NORMAL DISTRIBUTION<br>\n",
    "<ul>\n",
    "<ul>The  normal distribution is symmetric, continuous and bell-shaped</ul>\n",
    "<ul>The area under the curve over any interval on the horizontal axis represents the probability of the random variable, X, taking on a value in that interval.  The area under the curve sums to 1.</ul>\n",
    "<ul>A  normal distribution is completely determined by its mean and standard deviation.</ul>\n",
    "<ul>In a normal distribution, Mean plus or minus 1 standard deviation includes 68.27%  of the values; Plus or minus 2 standard deviations = 95.45%  of the values and plus or minus 3 standard deviations = 99.73%  of the values. We use the normal dist to evaluate probabilities for any no. of standard deviations difference from  the mean.</ul>\n",
    "</ul>\n"
   ]
  },
  {
   "cell_type": "code",
   "execution_count": 3,
   "metadata": {},
   "outputs": [],
   "source": [
    "# Import required libraries\n",
    "from scipy.stats import norm\n",
    "import numpy as np"
   ]
  },
  {
   "cell_type": "code",
   "execution_count": 32,
   "metadata": {},
   "outputs": [],
   "source": [
    "# Functions\n",
    "def z(x, mean, std_dev):\n",
    "    \"\"\"Calculates the Standardized Number\"\"\"\n",
    "    return (x - mean) / std_dev\n",
    "\n",
    "def proportion(min, max, mean, std_dev):\n",
    "    \"\"\"Returns the probability percentage between 2 scores\"\"\"\n",
    "\n",
    "    # Calculate Z for min score\n",
    "    min_z = z(min, mean, std_dev)\n",
    "\n",
    "    # Calculate Z for max score\n",
    "    max_z = z(max, mean, std_dev)\n",
    "\n",
    "    # Calculate the min probability getting the min score\n",
    "    min_prob = norm.cdf(min_z)\n",
    "\n",
    "    # Calculate the max probability getting the max score\n",
    "    max_prob = norm.cdf(max_z)\n",
    "\n",
    "    # Calculate percentage\n",
    "    percent = (max_prob - min_prob) * 100\n",
    "\n",
    "    return round(percent, 2)"
   ]
  },
  {
   "cell_type": "code",
   "execution_count": 33,
   "metadata": {},
   "outputs": [
    {
     "data": {
      "text/plain": [
       "34.13"
      ]
     },
     "execution_count": 33,
     "metadata": {},
     "output_type": "execute_result"
    }
   ],
   "source": [
    "proportion(min=80, max=84, mean=80, std_dev=4)"
   ]
  },
  {
   "cell_type": "code",
   "execution_count": 29,
   "metadata": {},
   "outputs": [
    {
     "data": {
      "text/plain": [
       "66.77"
      ]
     },
     "execution_count": 29,
     "metadata": {},
     "output_type": "execute_result"
    }
   ],
   "source": [
    "proportion(75, 83, 80, 4)"
   ]
  },
  {
   "cell_type": "code",
   "execution_count": 30,
   "metadata": {},
   "outputs": [
    {
     "data": {
      "text/plain": [
       "20.29"
      ]
     },
     "execution_count": 30,
     "metadata": {},
     "output_type": "execute_result"
    }
   ],
   "source": [
    "proportion(75, 78, 80, 4)"
   ]
  },
  {
   "cell_type": "code",
   "execution_count": 31,
   "metadata": {},
   "outputs": [
    {
     "data": {
      "text/plain": [
       "10.56"
      ]
     },
     "execution_count": 31,
     "metadata": {},
     "output_type": "execute_result"
    }
   ],
   "source": [
    "proportion(85, 100, 80, 4)"
   ]
  },
  {
   "cell_type": "code",
   "execution_count": 21,
   "metadata": {},
   "outputs": [
    {
     "data": {
      "text/plain": [
       "89.44"
      ]
     },
     "execution_count": 21,
     "metadata": {},
     "output_type": "execute_result"
    }
   ],
   "source": [
    "proportion(0, 85, 80, 4)"
   ]
  }
 ],
 "metadata": {
  "kernelspec": {
   "display_name": "env",
   "language": "python",
   "name": "python3"
  },
  "language_info": {
   "codemirror_mode": {
    "name": "ipython",
    "version": 3
   },
   "file_extension": ".py",
   "mimetype": "text/x-python",
   "name": "python",
   "nbconvert_exporter": "python",
   "pygments_lexer": "ipython3",
   "version": "3.10.2"
  }
 },
 "nbformat": 4,
 "nbformat_minor": 2
}
