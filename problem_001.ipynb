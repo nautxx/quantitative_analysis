{
 "cells": [
  {
   "cell_type": "markdown",
   "metadata": {},
   "source": [
    "Problem<br>\n",
    "<ul>\n",
    "<li>\n",
    "You have just  founded MYOWN Company with the intention of manufacturing and marketing your invention - KARMA, a personal computer for turned-on people.  Despite the rosy picture you paint of the company’s future, the people at the bank insist on “some numbers”.  In particular, they want a statement showing your projected income, expenses and profits for the first year.</li><br>\n",
    "<li>\n",
    "The details of your planned operations are:  A  tentative decision has been made to set the selling price  at $1,600 for each KARMA.  Manufacturing costs are expected to be $300 per unit plus fixed costs of $80,000 per year.  Marketing costs are projected to be 10 percent of dollar sales plus $10,000 in fixed costs.  A preliminary estimate of first-year sales is 100 units.</li>\n",
    "</ul>"
   ]
  },
  {
   "cell_type": "code",
   "execution_count": 2,
   "metadata": {},
   "outputs": [],
   "source": [
    "from pulp import *\n",
    "import pandas as pd"
   ]
  },
  {
   "cell_type": "code",
   "execution_count": 3,
   "metadata": {},
   "outputs": [
    {
     "name": "stdout",
     "output_type": "stream",
     "text": [
      "   Year  Price  VariableCostUnit  UnitSales     Sales  ManufacturingCost  \\\n",
      "0  1997   1600               300     100.00  160000.0           110000.0   \n",
      "1  1998   1600               300     150.00  240000.0           125000.0   \n",
      "2  1999   1600               300     225.00  360000.0           147500.0   \n",
      "3  2000   1600               300     337.50  540000.0           181250.0   \n",
      "4  2001   1600               300     506.25  810000.0           231875.0   \n",
      "\n",
      "   GrossMargin  MarketingCost  Profit Before Tax  \n",
      "0      50000.0        86000.0           -36000.0  \n",
      "1     115000.0        94000.0            21000.0  \n",
      "2     212500.0       106000.0           106500.0  \n",
      "3     358750.0       124000.0           234750.0  \n",
      "4     578125.0       151000.0           427125.0  \n"
     ]
    }
   ],
   "source": [
    "df = pd.DataFrame({'Year': [1997, 1998, 1999, 2000, 2001],\n",
    "                #    'UnitSales': [100, 150, 225, 337.5, 506.25],\n",
    "                   'Price': [1600, 1600, 1600, 1600, 1600],\n",
    "                   'VariableCostUnit': [300, 300, 300, 300, 300]\n",
    "                    })\n",
    "\n",
    "# Use list comprehension to create UnitSales\n",
    "df['UnitSales'] = [100 * (1.5 ** x) for x in df.index]\n",
    "\n",
    "# Create Calculation Columns\n",
    "df['Sales'] = df['UnitSales'] * df['Price']\n",
    "df['ManufacturingCost'] = 80000 + (df['VariableCostUnit'] * df['UnitSales'])\n",
    "df['GrossMargin'] = df['Sales'] - df['ManufacturingCost']\n",
    "df['MarketingCost'] = 70000 + (0.1 * df['Sales'])\n",
    "df['Profit Before Tax'] = df['GrossMargin'] - df['MarketingCost']\n",
    "\n",
    "print(df)"
   ]
  }
 ],
 "metadata": {
  "kernelspec": {
   "display_name": "env",
   "language": "python",
   "name": "python3"
  },
  "language_info": {
   "codemirror_mode": {
    "name": "ipython",
    "version": 3
   },
   "file_extension": ".py",
   "mimetype": "text/x-python",
   "name": "python",
   "nbconvert_exporter": "python",
   "pygments_lexer": "ipython3",
   "version": "3.10.2"
  }
 },
 "nbformat": 4,
 "nbformat_minor": 2
}
