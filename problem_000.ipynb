{
 "cells": [
  {
   "cell_type": "markdown",
   "metadata": {},
   "source": [
    "Problem<br><br>\n",
    "There is a T-shirt manufacturer. They produce two kinds of T-shirts. One is a T-shirt that is made of silk. The other is one that is made of cotton. Silk T-shirts per item sells for $45 and costs $30 to make. The cotton T-shirt per item sells for $20 and costs $10. To meet customer demand, at least 2000 units of silk T-shirts and at least 8000 units of cotton T-shirts need to be produced and sold. The manufacturer can produce 8000 units of two kinds of T-shirts at most. What is the maximum revenue that the manufacture can make?"
   ]
  },
  {
   "cell_type": "code",
   "execution_count": 1,
   "metadata": {},
   "outputs": [],
   "source": [
    "from pulp import *\n",
    "import pandas as pd"
   ]
  },
  {
   "cell_type": "code",
   "execution_count": 2,
   "metadata": {},
   "outputs": [
    {
     "name": "stdout",
     "output_type": "stream",
     "text": [
      "  Variable  Price  Cost  Demand  Margin\n",
      "0     silk     45    30    2000      15\n",
      "1   cotton     20    10    8000      10\n"
     ]
    }
   ],
   "source": [
    "df = pd.DataFrame({'Variable': ['silk', 'cotton'],\n",
    "                   'Price': [45, 20],\n",
    "                   'Cost': [30, 10],\n",
    "                   'Demand': [2000, 8000]\n",
    "                    })\n",
    "\n",
    "\n",
    "df['Margin'] = df['Price'] - df['Cost']\n",
    "\n",
    "print(df)"
   ]
  },
  {
   "cell_type": "markdown",
   "metadata": {},
   "source": [
    "Easy Setup"
   ]
  },
  {
   "cell_type": "code",
   "execution_count": 1,
   "metadata": {},
   "outputs": [
    {
     "ename": "NameError",
     "evalue": "name 'LpProblem' is not defined",
     "output_type": "error",
     "traceback": [
      "\u001b[0;31m---------------------------------------------------------------------------\u001b[0m",
      "\u001b[0;31mNameError\u001b[0m                                 Traceback (most recent call last)",
      "Cell \u001b[0;32mIn[1], line 2\u001b[0m\n\u001b[1;32m      1\u001b[0m \u001b[38;5;66;03m# Initialize the LP\u001b[39;00m\n\u001b[0;32m----> 2\u001b[0m prob \u001b[38;5;241m=\u001b[39m \u001b[43mLpProblem\u001b[49m(\u001b[38;5;124m'\u001b[39m\u001b[38;5;124mT-shirt Manufacturer\u001b[39m\u001b[38;5;124m'\u001b[39m, LpMaximize)\n\u001b[1;32m      4\u001b[0m \u001b[38;5;66;03m# Decision Variables\u001b[39;00m\n\u001b[1;32m      5\u001b[0m x \u001b[38;5;241m=\u001b[39m LpVariable\u001b[38;5;241m.\u001b[39mdicts(\u001b[38;5;124m'\u001b[39m\u001b[38;5;124mx\u001b[39m\u001b[38;5;124m'\u001b[39m, [\u001b[38;5;241m1\u001b[39m,\u001b[38;5;241m2\u001b[39m], lowBound\u001b[38;5;241m=\u001b[39m\u001b[38;5;241m0\u001b[39m, cat\u001b[38;5;241m=\u001b[39m\u001b[38;5;124m'\u001b[39m\u001b[38;5;124mInteger\u001b[39m\u001b[38;5;124m'\u001b[39m)\n",
      "\u001b[0;31mNameError\u001b[0m: name 'LpProblem' is not defined"
     ]
    }
   ],
   "source": [
    "# Initialize the LP\n",
    "prob = LpProblem('T-shirt Manufacturer', LpMaximize)\n",
    "\n",
    "# Decision Variables\n",
    "x = LpVariable.dicts('x', [1,2], lowBound=0, cat='Integer')  # silk, cotton\n",
    "\n",
    "# Objective Function\n",
    "prob += 15 * x[1] + 10 * x[2] # Max Revenue\n",
    "\n",
    "# Add Constraints\n",
    "prob += x[1] + x[2] <= 8000, 'Total Demand'\n",
    "prob += x[1] <= 2000, 'Silk Demand'\n",
    "prob += x[2] <= 8000, 'Cotton Demand'\n",
    "print(prob)\n",
    "\n",
    "# Solve the problem\n",
    "status = prob.solve()\n",
    "print(LpStatus[status])\n",
    "\n",
    "#Display variables\n",
    "for var in prob.variables():\n",
    "    print(f\"{var.name} = {var.varValue}\")\n",
    "\n",
    "#Display objective\n",
    "max_revenue = value(prob.objective) # 90000\n",
    "print(f\"max revenue = {max_revenue}\")"
   ]
  },
  {
   "cell_type": "markdown",
   "metadata": {},
   "source": [
    "Hard Setup"
   ]
  },
  {
   "cell_type": "code",
   "execution_count": 4,
   "metadata": {},
   "outputs": [
    {
     "name": "stdout",
     "output_type": "stream",
     "text": [
      "Welcome to the CBC MILP Solver \n",
      "Version: 2.10.3 \n",
      "Build Date: Dec 15 2019 \n",
      "\n",
      "command line - /Users/jason/Documents/GitHub/naut/quantitative_methods/env/lib/python3.10/site-packages/pulp/solverdir/cbc/osx/64/cbc /var/folders/fb/p1td_8397cg27vvh9njm_gtm0000gn/T/16b7f56669b449d9a59088912860d4db-pulp.mps -max -timeMode elapsed -branch -printingOptions all -solution /var/folders/fb/p1td_8397cg27vvh9njm_gtm0000gn/T/16b7f56669b449d9a59088912860d4db-pulp.sol (default strategy 1)\n",
      "At line 2 NAME          MODEL\n",
      "At line 3 ROWS\n",
      "At line 8 COLUMNS\n",
      "At line 19 RHS\n",
      "At line 23 BOUNDS\n",
      "At line 26 ENDATA\n",
      "Problem MODEL has 3 rows, 2 columns and 4 elements\n",
      "Coin0008I MODEL read with 0 errors\n",
      "Option for timeMode changed from cpu to elapsed\n",
      "Continuous objective value is 90000 - 0.00 seconds\n",
      "Cgl0004I processed model has 1 rows, 2 columns (2 integer (0 of which binary)) and 2 elements\n",
      "Cutoff increment increased from 1e-05 to 4.9999\n",
      "Cbc0012I Integer solution of -90000 found by DiveCoefficient after 0 iterations and 0 nodes (0.00 seconds)\n",
      "Cbc0001I Search completed - best objective -90000, took 0 iterations and 0 nodes (0.00 seconds)\n",
      "Cbc0035I Maximum depth 0, 0 variables fixed on reduced cost\n",
      "Cuts at root node changed objective from -90000 to -90000\n",
      "Probing was tried 0 times and created 0 cuts of which 0 were active after adding rounds of cuts (0.000 seconds)\n",
      "Gomory was tried 0 times and created 0 cuts of which 0 were active after adding rounds of cuts (0.000 seconds)\n",
      "Knapsack was tried 0 times and created 0 cuts of which 0 were active after adding rounds of cuts (0.000 seconds)\n",
      "Clique was tried 0 times and created 0 cuts of which 0 were active after adding rounds of cuts (0.000 seconds)\n",
      "MixedIntegerRounding2 was tried 0 times and created 0 cuts of which 0 were active after adding rounds of cuts (0.000 seconds)\n",
      "FlowCover was tried 0 times and created 0 cuts of which 0 were active after adding rounds of cuts (0.000 seconds)\n",
      "TwoMirCuts was tried 0 times and created 0 cuts of which 0 were active after adding rounds of cuts (0.000 seconds)\n",
      "ZeroHalf was tried 0 times and created 0 cuts of which 0 were active after adding rounds of cuts (0.000 seconds)\n",
      "\n",
      "Result - Optimal solution found\n",
      "\n",
      "Objective value:                90000.00000000\n",
      "Enumerated nodes:               0\n",
      "Total iterations:               0\n",
      "Time (CPU seconds):             0.00\n",
      "Time (Wallclock seconds):       0.00\n",
      "\n",
      "Option for printingOptions changed from normal to all\n",
      "Total time (CPU seconds):       0.00   (Wallclock seconds):       0.00\n",
      "\n",
      "Optimal\n",
      "90000.0\n",
      "Materials needed\n",
      "---------------------------------------------------------------------\n",
      "Variable_cotton = 6000.0\n",
      "Variable_silk = 2000.0\n"
     ]
    }
   ],
   "source": [
    "# Initialize the LP\n",
    "prob = LpProblem('Problem_1', LpMaximize)\n",
    "\n",
    "inv_items = list(df['Variable']) # List of variable names\n",
    "\n",
    "margin = dict(zip(inv_items, df['Margin'])) # Dictionary of Margin\n",
    "\n",
    "demand = dict(zip(inv_items, df['Demand'])) # Dictionary of Demand\n",
    "\n",
    "# Decision Variables\n",
    "inv_vars = LpVariable.dicts('Variable', inv_items, lowBound=0, cat='Integer')\n",
    "\n",
    "# Objective Function\n",
    "prob += lpSum([inv_vars[i] * margin[i] for i in inv_items])\n",
    "\n",
    "# Constraints\n",
    "prob += lpSum([inv_vars[i] for i in inv_items]) <= 8000, 'Total Demand'\n",
    "prob += inv_vars['silk'] <= 2000, 'Silk Demand'\n",
    "prob += inv_vars['cotton'] <= 8000, 'Cotton Demand'\n",
    "\n",
    "# Solve the problem\n",
    "status = prob.solve()\n",
    "print(LpStatus[status])\n",
    "\n",
    "# Objective\n",
    "max_revenue = value(prob.objective) # 90000\n",
    "print(max_revenue)\n",
    "\n",
    "# Variables' values\n",
    "print('Materials needed\\n' + '-' * 69)\n",
    "\n",
    "for var in prob.variables():\n",
    "    if var.varValue >= 0:\n",
    "       print(var.name, '=', var.varValue)"
   ]
  }
 ],
 "metadata": {
  "kernelspec": {
   "display_name": "env",
   "language": "python",
   "name": "python3"
  },
  "language_info": {
   "codemirror_mode": {
    "name": "ipython",
    "version": 3
   },
   "file_extension": ".py",
   "mimetype": "text/x-python",
   "name": "python",
   "nbconvert_exporter": "python",
   "pygments_lexer": "ipython3",
   "version": "3.10.2"
  }
 },
 "nbformat": 4,
 "nbformat_minor": 2
}
