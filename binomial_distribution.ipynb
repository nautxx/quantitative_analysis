{
 "cells": [
  {
   "cell_type": "markdown",
   "metadata": {},
   "source": [
    "BINOMIAL DISTRIBUTION<br>\n",
    "<ul><li>\n",
    "The possible outcomes of a trial can be divided into two categories:  those that yield a given event, and those that fail to do so.  Consider that n independent trials are performed, and let X denote the number of times the given event occurs.  For a reason that will soon become apparent, the probability distribution of X  is called binomial.</li><br>\n",
    "<li>\n",
    "If the assumptions of the Bernoulli process are satisfied and if the probability of a success on one trial is p, then the probability distribution of the number of successes, R, is n trials, is a binomial distribution.</li>\n",
    "</ul>"
   ]
  },
  {
   "cell_type": "code",
   "execution_count": 4,
   "metadata": {},
   "outputs": [],
   "source": [
    "from scipy.stats import binom\n",
    "import matplotlib.pyplot as plt"
   ]
  },
  {
   "cell_type": "code",
   "execution_count": 5,
   "metadata": {},
   "outputs": [
    {
     "name": "stdout",
     "output_type": "stream",
     "text": [
      "r\tp(r)\n",
      "0\t0.8573750000000003\n",
      "1\t0.135375\n",
      "2\t0.007125000000000001\n",
      "3\t0.00012500000000000003\n",
      "\n",
      "mean = 0.15000000000000002\n",
      "variance = 0.14250000000000002\n"
     ]
    }
   ],
   "source": [
    "# Set the values of n and p\n",
    "n = 3\n",
    "p = 0.05\n",
    "\n",
    "# Define the list of r values \n",
    "r_values = list(range(n + 1))\n",
    "\n",
    "# Obtain the mean and variance\n",
    "mean, var = binom.stats(n, p)\n",
    "\n",
    "# List of pmf values\n",
    "dist = [binom.pmf(r, n, p) for r in r_values]\n",
    "\n",
    "# Prints the table\n",
    "print(\"r\\tp(r)\") # Table header\n",
    "for i in range(n + 1):\n",
    "    print(str(r_values[i]) + \"\\t\" + str(dist[i]))\n",
    "\n",
    "# Printing mean and variance\n",
    "print(\"\\nmean = \" + str(mean))\n",
    "print(\"variance = \" + str(var))"
   ]
  },
  {
   "cell_type": "code",
   "execution_count": 6,
   "metadata": {},
   "outputs": [
    {
     "data": {
      "image/png": "[encoded data removed]",
      "text/plain": [
       "<Figure size 640x480 with 1 Axes>"
      ]
     },
     "metadata": {},
     "output_type": "display_data"
    }
   ],
   "source": [
    "# Plots the graph\n",
    "plt.bar(r_values, dist)\n",
    "plt.show()"
   ]
  }
 ],
 "metadata": {
  "kernelspec": {
   "display_name": "env",
   "language": "python",
   "name": "python3"
  },
  "language_info": {
   "codemirror_mode": {
    "name": "ipython",
    "version": 3
   },
   "file_extension": ".py",
   "mimetype": "text/x-python",
   "name": "python",
   "nbconvert_exporter": "python",
   "pygments_lexer": "ipython3",
   "version": "3.10.2"
  }
 },
 "nbformat": 4,
 "nbformat_minor": 2
}
